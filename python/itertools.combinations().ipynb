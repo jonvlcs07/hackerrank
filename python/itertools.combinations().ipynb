{
 "cells": [
  {
   "cell_type": "code",
   "execution_count": 2,
   "metadata": {},
   "outputs": [],
   "source": [
    "from itertools import combinations"
   ]
  },
  {
   "cell_type": "code",
   "execution_count": 75,
   "metadata": {},
   "outputs": [
    {
     "name": "stdout",
     "output_type": "stream",
     "text": [
      "HACK 2\n"
     ]
    }
   ],
   "source": [
    "inp = input().split()"
   ]
  },
  {
   "cell_type": "code",
   "execution_count": 76,
   "metadata": {},
   "outputs": [],
   "source": [
    "S = inp[0]\n",
    "k = int(inp[1])"
   ]
  },
  {
   "cell_type": "code",
   "execution_count": 77,
   "metadata": {},
   "outputs": [
    {
     "name": "stdout",
     "output_type": "stream",
     "text": [
      "A\n",
      "C\n",
      "H\n",
      "K\n",
      "AC\n",
      "AK\n",
      "CK\n",
      "HA\n",
      "HC\n",
      "HK\n"
     ]
    }
   ],
   "source": [
    "a = []\n",
    "for i in range(1,k+1):\n",
    "    a = list(combinations(S,i))\n",
    "    a.sort()\n",
    "    for x in itertools.chain(a):\n",
    "        print(''.join(x)) "
   ]
  },
  {
   "cell_type": "code",
   "execution_count": 92,
   "metadata": {},
   "outputs": [
    {
     "name": "stdout",
     "output_type": "stream",
     "text": [
      "HACK 2\n",
      "['A', 'C', 'H', 'K']\n",
      "['AC', 'AK', 'CK', 'HA', 'HC', 'HK']\n"
     ]
    }
   ],
   "source": [
    "# Final Code.\n",
    "from itertools import combinations\n",
    "import itertools\n",
    "inp = input().split()\n",
    "S = inp[0]\n",
    "k = int(inp[1])\n",
    "a = []\n",
    "for i in range(1,k+1):\n",
    "    a = list(combinations(S,i))\n",
    "    for j in range(len(a)):\n",
    "        a[j] = ''.join(a[j])\n",
    "    a.sort() \n",
    "\n",
    "    print(a)    "
   ]
  },
  {
   "cell_type": "code",
   "execution_count": 31,
   "metadata": {},
   "outputs": [
    {
     "name": "stdout",
     "output_type": "stream",
     "text": [
      "[('H', 'A'), ('H', 'C'), ('H', 'K'), ('A', 'C'), ('A', 'K'), ('C', 'K')]\n"
     ]
    }
   ],
   "source": [
    "S = \"HACK\"\n",
    "i = 2\n",
    "a = list(combinations(S,i))\n",
    "print(a)"
   ]
  },
  {
   "cell_type": "code",
   "execution_count": 13,
   "metadata": {},
   "outputs": [
    {
     "ename": "AttributeError",
     "evalue": "'tuple' object has no attribute 'sort'",
     "output_type": "error",
     "traceback": [
      "\u001b[0;31m-----------------------------------------------------------------------\u001b[0m",
      "\u001b[0;31mAttributeError\u001b[0m                        Traceback (most recent call last)",
      "\u001b[0;32m<ipython-input-13-269f84b515e6>\u001b[0m in \u001b[0;36m<module>\u001b[0;34m\u001b[0m\n\u001b[0;32m----> 1\u001b[0;31m \u001b[0ma\u001b[0m\u001b[0;34m[\u001b[0m\u001b[0;36m0\u001b[0m\u001b[0;34m]\u001b[0m\u001b[0;34m.\u001b[0m\u001b[0msort\u001b[0m\u001b[0;34m(\u001b[0m\u001b[0;34m)\u001b[0m\u001b[0;34m\u001b[0m\u001b[0;34m\u001b[0m\u001b[0m\n\u001b[0m",
      "\u001b[0;31mAttributeError\u001b[0m: 'tuple' object has no attribute 'sort'"
     ]
    }
   ],
   "source": [
    "a[0].sort()"
   ]
  },
  {
   "cell_type": "code",
   "execution_count": 16,
   "metadata": {},
   "outputs": [
    {
     "name": "stdout",
     "output_type": "stream",
     "text": [
      "AC\n",
      "AK\n",
      "CK\n",
      "HA\n",
      "HC\n",
      "HK\n"
     ]
    }
   ],
   "source": [
    "lista = []\n",
    "for i in a:\n",
    "    lista.append(''.join(i))\n",
    "a.sort(key=lambda tup: tup[1])\n",
    "lista.sort()\n",
    "for i in lista: print(i)"
   ]
  },
  {
   "cell_type": "code",
   "execution_count": 19,
   "metadata": {},
   "outputs": [
    {
     "data": {
      "text/plain": [
       "[('H', 'A'), ('H', 'C'), ('A', 'C'), ('H', 'K'), ('A', 'K'), ('C', 'K')]"
      ]
     },
     "execution_count": 19,
     "metadata": {},
     "output_type": "execute_result"
    }
   ],
   "source": [
    "a"
   ]
  },
  {
   "cell_type": "code",
   "execution_count": 14,
   "metadata": {},
   "outputs": [],
   "source": [
    "a.sort(key=lambda tup: tup[1])"
   ]
  },
  {
   "cell_type": "code",
   "execution_count": 18,
   "metadata": {},
   "outputs": [
    {
     "data": {
      "text/plain": [
       "[('H', 'A'), ('H', 'C'), ('A', 'C'), ('H', 'K'), ('A', 'K'), ('C', 'K')]"
      ]
     },
     "execution_count": 18,
     "metadata": {},
     "output_type": "execute_result"
    }
   ],
   "source": [
    "def getKey(item):\n",
    "    return item[1]\n",
    "sorted(a, key=getKey)"
   ]
  },
  {
   "cell_type": "code",
   "execution_count": 21,
   "metadata": {},
   "outputs": [
    {
     "data": {
      "text/plain": [
       "[('H', 'A'), ('H', 'C'), ('H', 'K'), ('A', 'C'), ('A', 'K'), ('C', 'K')]"
      ]
     },
     "execution_count": 21,
     "metadata": {},
     "output_type": "execute_result"
    }
   ],
   "source": [
    "a"
   ]
  },
  {
   "cell_type": "code",
   "execution_count": 25,
   "metadata": {},
   "outputs": [],
   "source": [
    "a = list(map(sorted, a))"
   ]
  },
  {
   "cell_type": "code",
   "execution_count": 26,
   "metadata": {},
   "outputs": [
    {
     "data": {
      "text/plain": [
       "[['A', 'H'], ['C', 'H'], ['H', 'K'], ['A', 'C'], ['A', 'K'], ['C', 'K']]"
      ]
     },
     "execution_count": 26,
     "metadata": {},
     "output_type": "execute_result"
    }
   ],
   "source": [
    "a"
   ]
  },
  {
   "cell_type": "code",
   "execution_count": 27,
   "metadata": {},
   "outputs": [],
   "source": [
    "lista = []\n",
    "for i in a:\n",
    "    lista.append(''.join(i))"
   ]
  },
  {
   "cell_type": "code",
   "execution_count": 29,
   "metadata": {},
   "outputs": [],
   "source": [
    "lista.sort()"
   ]
  },
  {
   "cell_type": "code",
   "execution_count": 30,
   "metadata": {},
   "outputs": [
    {
     "data": {
      "text/plain": [
       "['AC', 'AH', 'AK', 'CH', 'CK', 'HK']"
      ]
     },
     "execution_count": 30,
     "metadata": {},
     "output_type": "execute_result"
    }
   ],
   "source": [
    "lista"
   ]
  },
  {
   "cell_type": "code",
   "execution_count": 33,
   "metadata": {},
   "outputs": [],
   "source": [
    "comb = []\n",
    "S = \"HACK\"\n",
    "i = 1\n",
    "a = list(combinations(S,i))\n",
    "lista = []\n",
    "a = list(map(sorted, a))\n",
    "for i in a:\n",
    "    lista.append(''.join(i))\n",
    "lista.sort()\n",
    "comb.extend(lista)"
   ]
  },
  {
   "cell_type": "code",
   "execution_count": 34,
   "metadata": {},
   "outputs": [
    {
     "data": {
      "text/plain": [
       "['A', 'C', 'H', 'K']"
      ]
     },
     "execution_count": 34,
     "metadata": {},
     "output_type": "execute_result"
    }
   ],
   "source": [
    "comb"
   ]
  },
  {
   "cell_type": "code",
   "execution_count": 35,
   "metadata": {},
   "outputs": [
    {
     "name": "stdout",
     "output_type": "stream",
     "text": [
      "A\n",
      "C\n",
      "H\n",
      "K\n",
      "AC\n",
      "AH\n",
      "AK\n",
      "CH\n",
      "CK\n",
      "HK\n"
     ]
    }
   ],
   "source": [
    "S = \"HACK\"\n",
    "i = 2\n",
    "a = list(combinations(S,i))\n",
    "lista = []\n",
    "a = list(map(sorted, a))\n",
    "for i in a:\n",
    "    lista.append(''.join(i))\n",
    "lista.sort()\n",
    "comb.extend(lista)\n",
    "for i in comb: print(i)"
   ]
  },
  {
   "cell_type": "code",
   "execution_count": 39,
   "metadata": {},
   "outputs": [
    {
     "name": "stdout",
     "output_type": "stream",
     "text": [
      "HACK 2\n",
      "A\n",
      "C\n",
      "H\n",
      "K\n",
      "AC\n",
      "AH\n",
      "AK\n",
      "CH\n",
      "CK\n",
      "HK\n"
     ]
    }
   ],
   "source": [
    "inp = input().split()\n",
    "S = inp[0]\n",
    "k = int(inp[1])\n",
    "comb = []\n",
    "for i in range(1, k+1):\n",
    "    a = list(combinations(S,i))\n",
    "    lista = []\n",
    "    a = list(map(sorted, a))\n",
    "    for i in a:\n",
    "        lista.append(''.join(i))\n",
    "    lista.sort()\n",
    "    comb.extend(lista)\n",
    "for i in comb:\n",
    "    print(i)"
   ]
  },
  {
   "cell_type": "code",
   "execution_count": 38,
   "metadata": {},
   "outputs": [
    {
     "data": {
      "text/plain": [
       "<map at 0x7fcbac79eb70>"
      ]
     },
     "execution_count": 38,
     "metadata": {},
     "output_type": "execute_result"
    }
   ],
   "source": [
    "# Final solution\n",
    "from itertools import combinations\n",
    "inp = input().split()\n",
    "S = inp[0]\n",
    "k = int(inp[1])\n",
    "comb = []\n",
    "for i in range(1, k+1):\n",
    "    a = list(combinations(S,i))\n",
    "    lista = []\n",
    "    a = list(map(sorted, a))\n",
    "    for i in a:\n",
    "        lista.append(''.join(i))\n",
    "    lista.sort()\n",
    "    comb.extend(lista)\n",
    "for i in comb:\n",
    "    print(i)\n"
   ]
  }
 ],
 "metadata": {
  "kernelspec": {
   "display_name": "Python 3",
   "language": "python",
   "name": "python3"
  },
  "language_info": {
   "codemirror_mode": {
    "name": "ipython",
    "version": 3
   },
   "file_extension": ".py",
   "mimetype": "text/x-python",
   "name": "python",
   "nbconvert_exporter": "python",
   "pygments_lexer": "ipython3",
   "version": "3.6.8"
  }
 },
 "nbformat": 4,
 "nbformat_minor": 2
}
