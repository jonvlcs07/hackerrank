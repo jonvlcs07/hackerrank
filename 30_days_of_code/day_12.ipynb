{
 "cells": [
  {
   "cell_type": "markdown",
   "metadata": {},
   "source": [
    "# Day 12"
   ]
  },
  {
   "cell_type": "code",
   "execution_count": 1,
   "metadata": {},
   "outputs": [],
   "source": [
    "class Person:\n",
    "\tdef __init__(self, firstName, lastName, idNumber):\n",
    "\t\tself.firstName = firstName\n",
    "\t\tself.lastName = lastName\n",
    "\t\tself.idNumber = idNumber\n",
    "\tdef printPerson(self):\n",
    "\t\tprint(\"Name:\", self.lastName + \",\", self.firstName)\n",
    "\t\tprint(\"ID:\", self.idNumber)"
   ]
  },
  {
   "cell_type": "code",
   "execution_count": 49,
   "metadata": {},
   "outputs": [],
   "source": [
    "class Student(Person):\n",
    "    def __init__(self, firstname, lastname, idNumber, scores):\n",
    "        super().__init__(firstname, lastname, idNumber)\n",
    "        self.scores = scores\n",
    "    \n",
    "    def calculate(self):\n",
    "        score = sum(self.scores)/len(self.scores)\n",
    "        \n",
    "        if score >= 90: grade = \"O\"\n",
    "        \n",
    "        elif score >= 80: grade = \"E\"\n",
    "        \n",
    "        elif score >= 70: grade = \"A\"\n",
    "            \n",
    "        elif score >= 55: grade = \"P\"\n",
    "            \n",
    "        elif score >= 40: grade = \"D\"\n",
    "            \n",
    "        else: grade = \"T\"\n",
    "        \n",
    "        return grade"
   ]
  },
  {
   "cell_type": "code",
   "execution_count": 43,
   "metadata": {},
   "outputs": [
    {
     "name": "stdout",
     "output_type": "stream",
     "text": [
      "0 T\n",
      "10 T\n",
      "20 T\n",
      "30 T\n",
      "40 D\n",
      "50 D\n",
      "60 P\n",
      "70 A\n",
      "80 E\n",
      "90 O\n"
     ]
    }
   ],
   "source": [
    "for i in range(0,100,10):\n",
    "    print(i, calculate(i))"
   ]
  },
  {
   "cell_type": "code",
   "execution_count": 27,
   "metadata": {},
   "outputs": [],
   "source": [
    "Eu = Person(\"Joao\", \"Laitano\", 77)"
   ]
  },
  {
   "cell_type": "code",
   "execution_count": 50,
   "metadata": {},
   "outputs": [],
   "source": [
    "Eu = Student(\"Joao\", \"Laitano\", 77, [1,2,3,4])"
   ]
  },
  {
   "cell_type": "code",
   "execution_count": 25,
   "metadata": {},
   "outputs": [
    {
     "name": "stdout",
     "output_type": "stream",
     "text": [
      "Name: Laitano, Joao\n",
      "ID: 77\n"
     ]
    }
   ],
   "source": [
    "Eu.printPerson()"
   ]
  },
  {
   "cell_type": "code",
   "execution_count": 51,
   "metadata": {},
   "outputs": [
    {
     "name": "stdout",
     "output_type": "stream",
     "text": [
      "T\n"
     ]
    }
   ],
   "source": [
    "print(Eu.calculate())"
   ]
  },
  {
   "cell_type": "code",
   "execution_count": null,
   "metadata": {},
   "outputs": [],
   "source": []
  },
  {
   "cell_type": "code",
   "execution_count": null,
   "metadata": {},
   "outputs": [],
   "source": []
  }
 ],
 "metadata": {
  "kernelspec": {
   "display_name": "Python 3",
   "language": "python",
   "name": "python3"
  },
  "language_info": {
   "codemirror_mode": {
    "name": "ipython",
    "version": 3
   },
   "file_extension": ".py",
   "mimetype": "text/x-python",
   "name": "python",
   "nbconvert_exporter": "python",
   "pygments_lexer": "ipython3",
   "version": "3.6.8"
  }
 },
 "nbformat": 4,
 "nbformat_minor": 2
}
